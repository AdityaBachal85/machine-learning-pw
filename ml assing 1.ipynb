{
 "cells": [
  {
   "cell_type": "markdown",
   "id": "e8cef278-f42e-47f4-954f-90f779678979",
   "metadata": {},
   "source": [
    "Q1: Define overfitting and underfitting in machine learning. What are the consequences of each, and how\n",
    "can they be mitigated?"
   ]
  },
  {
   "cell_type": "raw",
   "id": "a499ec63-224d-4478-a6b6-e18f8ef2083b",
   "metadata": {},
   "source": [
    "Definitions\n",
    "Overfitting: This occurs when a model learns the training data too well, including its noise and outliers, leading to poor performance on unseen data. It results in high variance and low bias.\n",
    "Underfitting: This happens when a model is too simplistic to capture the underlying patterns in the data, resulting in poor performance on both training and test datasets. It is characterized by high bias and low variance.\n",
    "Consequences\n",
    "Overfitting:\n",
    "Poor generalization to new data.\n",
    "High error rates on validation/test sets.\n",
    "Underfitting:\n",
    "Inaccurate predictions on both training and test datasets.\n",
    "Lack of useful insights from the data.\n",
    "Mitigation Techniques\n",
    "For Overfitting:\n",
    "Use regularization techniques (e.g., Lasso, Ridge).\n",
    "Implement early stopping during training.\n",
    "Employ cross-validation.\n",
    "Simplify the model or reduce features.\n",
    "Increase the size of the training dataset.\n",
    "For Underfitting:\n",
    "Increase model complexity.\n",
    "Improve feature engineering.\n",
    "Reduce regularization.\n",
    "Allow longer training times."
   ]
  },
  {
   "cell_type": "markdown",
   "id": "6cb8d124-bf44-4b57-b445-4fedfe0581bc",
   "metadata": {},
   "source": [
    "Q2: How can we reduce overfitting? Explain in brief."
   ]
  },
  {
   "cell_type": "code",
   "execution_count": null,
   "id": "815d5a9d-74a5-4b64-9bb6-58a3b7f403e4",
   "metadata": {},
   "outputs": [],
   "source": []
  }
 ],
 "metadata": {
  "kernelspec": {
   "display_name": "Python 3 (ipykernel)",
   "language": "python",
   "name": "python3"
  },
  "language_info": {
   "codemirror_mode": {
    "name": "ipython",
    "version": 3
   },
   "file_extension": ".py",
   "mimetype": "text/x-python",
   "name": "python",
   "nbconvert_exporter": "python",
   "pygments_lexer": "ipython3",
   "version": "3.10.8"
  }
 },
 "nbformat": 4,
 "nbformat_minor": 5
}
